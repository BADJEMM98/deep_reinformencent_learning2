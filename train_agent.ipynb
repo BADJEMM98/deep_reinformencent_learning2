{
 "cells": [
  {
   "cell_type": "code",
   "execution_count": null,
   "metadata": {
    "collapsed": true,
    "pycharm": {
     "is_executing": true
    }
   },
   "outputs": [],
   "source": []
  },
  {
   "cell_type": "code",
   "execution_count": null,
   "outputs": [],
   "source": [
    "from matplotlib import pyplot as plt\n",
    "from pyglet import clock\n",
    "\n",
    "from REINFORCE import REINFORCE\n",
    "from grid_DSA_env import GridWorld\n",
    "env = GridWorld(4,[(3,3)])\n",
    "pi, scores, steps = REINFORCE(env, max_iter_count=1000)\n",
    "print(pi.weights)\n",
    "plt.plot(scores)\n",
    "plt.show()\n",
    "plt.plot(steps)\n",
    "plt.show()\n",
    "print('mean score :' , sum(scores)/len(scores) )\n",
    "print('mean steps :' , sum(steps)/len(steps) )\n"
   ],
   "metadata": {
    "collapsed": false,
    "pycharm": {
     "is_executing": true
    }
   }
  },
  {
   "cell_type": "code",
   "execution_count": null,
   "outputs": [],
   "source": [
    "env = GridWorld(4,[(3,3)])\n",
    "pi, scores, steps = REINFORCE(env, max_iter_count=10000)\n",
    "print(pi.weights)\n",
    "plt.plot(scores)\n",
    "plt.show()\n",
    "plt.plot(steps)\n",
    "plt.show()\n",
    "print('mean score :' , sum(scores)/len(scores) )\n",
    "print('mean steps :' , sum(steps)/len(steps) )\n"
   ],
   "metadata": {
    "collapsed": false,
    "pycharm": {
     "is_executing": true
    }
   }
  },
  {
   "cell_type": "code",
   "execution_count": null,
   "outputs": [],
   "source": [
    "env = GridWorld(4,[(3,3)])\n",
    "pi, scores, steps = REINFORCE(env, max_iter_count=100000)\n",
    "print(pi.weights)\n",
    "plt.plot(scores)\n",
    "plt.show()\n",
    "plt.plot(steps)\n",
    "plt.show()\n",
    "print('mean score :' , sum(scores)/len(scores) )\n",
    "print('mean steps :' , sum(steps)/len(steps) )\n",
    "\n"
   ],
   "metadata": {
    "collapsed": false,
    "pycharm": {
     "is_executing": true
    }
   }
  },
  {
   "cell_type": "code",
   "execution_count": null,
   "outputs": [],
   "source": [
    "from lineWORD import LineWorld"
   ],
   "metadata": {
    "collapsed": false,
    "pycharm": {
     "is_executing": true
    }
   }
  },
  {
   "cell_type": "code",
   "execution_count": null,
   "outputs": [],
   "source": [
    "pi, scores, steps = REINFORCE(LineWorld(10), max_iter_count=1000)\n",
    "print(pi.weights)\n",
    "plt.plot(scores)\n",
    "plt.show()\n",
    "plt.plot(steps)\n",
    "plt.show()\n",
    "print('mean score :' , sum(scores)/len(scores) )\n",
    "print('mean steps :' , sum(steps)/len(steps) )\n"
   ],
   "metadata": {
    "collapsed": false,
    "pycharm": {
     "is_executing": true
    }
   }
  },
  {
   "cell_type": "code",
   "execution_count": null,
   "outputs": [],
   "source": [
    "pi, scores, steps = REINFORCE(LineWorld(10), max_iter_count=10000)\n",
    "print(pi.weights)\n",
    "plt.plot(scores)\n",
    "plt.show()\n",
    "plt.plot(steps)\n",
    "plt.show()\n",
    "print('mean score :' , sum(scores)/len(scores) )\n",
    "print('mean steps :' , sum(steps)/len(steps) )\n"
   ],
   "metadata": {
    "collapsed": false,
    "pycharm": {
     "is_executing": true
    }
   }
  },
  {
   "cell_type": "code",
   "execution_count": null,
   "outputs": [],
   "source": [
    "pi, scores, steps = REINFORCE(LineWorld(10), max_iter_count=100000)\n",
    "print(pi.weights)\n",
    "plt.plot(scores)\n",
    "plt.show()\n",
    "plt.plot(steps)\n",
    "plt.show()\n",
    "print('mean score :' , sum(scores)/len(scores) )\n",
    "print('mean steps :' , sum(steps)/len(steps) )\n"
   ],
   "metadata": {
    "collapsed": false,
    "pycharm": {
     "is_executing": true
    }
   }
  },
  {
   "cell_type": "code",
   "execution_count": null,
   "outputs": [],
   "source": [
    "from grid_line_word.one_octor_critic import one_step_actor_critic"
   ],
   "metadata": {
    "collapsed": false,
    "pycharm": {
     "is_executing": true
    }
   }
  },
  {
   "cell_type": "code",
   "execution_count": null,
   "outputs": [],
   "source": [
    "pi, v, scores, steps = one_step_actor_critic(GridWorld(4,[(3,3)]), max_iter_count=5000)\n",
    "print(pi.weights)\n",
    "plt.plot(scores)\n",
    "plt.show()\n",
    "plt.plot(steps)\n",
    "plt.show()\n",
    "print('mean score :' , sum(scores)/len(scores) )\n",
    "print('mean steps :' , sum(steps)/len(steps) )\n",
    "\n",
    "\n"
   ],
   "metadata": {
    "collapsed": false,
    "pycharm": {
     "is_executing": true
    }
   }
  },
  {
   "cell_type": "code",
   "execution_count": null,
   "outputs": [],
   "source": [
    "pi, v, scores, steps = one_step_actor_critic(GridWorld(4,[(3,3)]), max_iter_count=10000)\n",
    "print(pi.weights)\n",
    "plt.plot(scores)\n",
    "plt.show()\n",
    "plt.plot(steps)\n",
    "plt.show()\n",
    "print('mean score :' , sum(scores)/len(scores) )\n",
    "print('mean steps :' , sum(steps)/len(steps) )\n"
   ],
   "metadata": {
    "collapsed": false,
    "pycharm": {
     "is_executing": true
    }
   }
  },
  {
   "cell_type": "code",
   "execution_count": null,
   "outputs": [],
   "source": [
    "pi, v, scores, steps = one_step_actor_critic(GridWorld(4,[(3,3)]), max_iter_count=100000)\n",
    "print(pi.weights)\n",
    "plt.plot(scores)\n",
    "plt.show()\n",
    "plt.plot(steps)\n",
    "plt.show()\n",
    "print('mean score :' , sum(scores)/len(scores) )\n",
    "print('mean steps :' , sum(steps)/len(steps) )\n"
   ],
   "metadata": {
    "collapsed": false,
    "pycharm": {
     "is_executing": true
    }
   }
  },
  {
   "cell_type": "code",
   "execution_count": null,
   "outputs": [],
   "source": [
    "\n",
    "pi, v, scores, steps = one_step_actor_critic(LineWorld(10), max_iter_count=1000)\n",
    "print(pi.weights)\n",
    "plt.plot(scores)\n",
    "plt.show()\n",
    "plt.plot(steps)\n",
    "plt.show()\n",
    "print('mean score :' , sum(scores)/len(scores) )\n",
    "print('mean steps :' , sum(steps)/len(steps) )"
   ],
   "metadata": {
    "collapsed": false,
    "pycharm": {
     "is_executing": true
    }
   }
  },
  {
   "cell_type": "code",
   "execution_count": null,
   "outputs": [],
   "source": [
    "pi, v, scores, steps = one_step_actor_critic(LineWorld(10), max_iter_count=10000)\n",
    "print(pi.weights)\n",
    "plt.plot(scores)\n",
    "plt.show()\n",
    "plt.plot(steps)\n",
    "plt.show()\n",
    "print('mean score :' , sum(scores)/len(scores) )\n",
    "print('mean steps :' , sum(steps)/len(steps) )"
   ],
   "metadata": {
    "collapsed": false,
    "pycharm": {
     "is_executing": true
    }
   }
  },
  {
   "cell_type": "code",
   "execution_count": null,
   "outputs": [],
   "source": [
    "pi, v, scores, steps = one_step_actor_critic(LineWorld(10), max_iter_count=100000)\n",
    "print(pi.weights)\n",
    "plt.plot(scores)\n",
    "plt.show()\n",
    "plt.plot(steps)\n",
    "plt.show()\n",
    "print('mean score :' , sum(scores)/len(scores) )\n",
    "print('mean steps :' , sum(steps)/len(steps) )"
   ],
   "metadata": {
    "collapsed": false,
    "pycharm": {
     "is_executing": true
    }
   }
  }
 ],
 "metadata": {
  "kernelspec": {
   "display_name": "Python 3",
   "language": "python",
   "name": "python3"
  },
  "language_info": {
   "codemirror_mode": {
    "name": "ipython",
    "version": 2
   },
   "file_extension": ".py",
   "mimetype": "text/x-python",
   "name": "python",
   "nbconvert_exporter": "python",
   "pygments_lexer": "ipython2",
   "version": "2.7.6"
  }
 },
 "nbformat": 4,
 "nbformat_minor": 0
}
